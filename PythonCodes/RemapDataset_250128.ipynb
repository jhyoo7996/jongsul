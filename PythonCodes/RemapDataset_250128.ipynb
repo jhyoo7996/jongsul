{
 "cells": [
  {
   "cell_type": "code",
   "execution_count": 14,
   "metadata": {},
   "outputs": [
    {
     "name": "stdout",
     "output_type": "stream",
     "text": [
      "라벨 매핑이 완료되었습니다.\n",
      "{0: 1, 1: 2, 2: 0}\n"
     ]
    }
   ],
   "source": [
    "import os\n",
    "import glob\n",
    "# 0:person 1:gun 2:knife\n",
    "# 수정: 데이터셋의 기존 라벨 -> 새 라벨로 매핑 (dataset A 기준)\n",
    "label_mapping = { 0: 1, 1: 2, 2: 0 }\n",
    "# 수정: 로컬 폴더 경로\n",
    "label_folder = \"./People_gun_knife_v2/weaponvid.v5i.yolov8/test/labels\"  \n",
    "\n",
    "txt_files = glob.glob(os.path.join(label_folder, \"*.txt\"))\n",
    "\n",
    "for txt_file in txt_files:\n",
    "    with open(txt_file, \"r\") as f:\n",
    "        lines = f.readlines()\n",
    "    \n",
    "    new_lines = []\n",
    "    for line in lines:\n",
    "        line = line.strip()\n",
    "        if not line:\n",
    "            continue\n",
    "        parts = line.split()\n",
    "        class_id = int(parts[0])\n",
    "        x_center = parts[1]\n",
    "        y_center = parts[2]\n",
    "        w = parts[3]\n",
    "        h = parts[4]\n",
    "        \n",
    "        new_class_id = label_mapping[class_id]\n",
    "        new_line = f\"{new_class_id} {x_center} {y_center} {w} {h}\\n\"\n",
    "        new_lines.append(new_line)\n",
    "    \n",
    "    with open(txt_file, \"w\") as f:\n",
    "        f.writelines(new_lines)\n",
    "\n",
    "print(\"라벨 매핑이 완료되었습니다.\")\n",
    "print(label_mapping)"
   ]
  },
  {
   "cell_type": "code",
   "execution_count": null,
   "metadata": {},
   "outputs": [],
   "source": []
  }
 ],
 "metadata": {
  "kernelspec": {
   "display_name": "Python 3",
   "language": "python",
   "name": "python3"
  },
  "language_info": {
   "codemirror_mode": {
    "name": "ipython",
    "version": 3
   },
   "file_extension": ".py",
   "mimetype": "text/x-python",
   "name": "python",
   "nbconvert_exporter": "python",
   "pygments_lexer": "ipython3",
   "version": "3.8.5"
  }
 },
 "nbformat": 4,
 "nbformat_minor": 4
}
